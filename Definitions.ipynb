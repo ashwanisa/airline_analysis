{
 "cells": [
  {
   "cell_type": "markdown",
   "id": "132021a5",
   "metadata": {},
   "source": [
    "# Definitions\n",
    "<strong></strong>\n",
    "1. <strong>Domestic Market</strong><br>\n",
    "A domestic market is the supply and demand of goods, services, and securities within a single country. In domestic trading, a firm faces only one set of competitive, economic, and market issues and essentially must deal with only one set of customers, although the company may have several segments in a market.<br>\n",
    "(Source: https://en.wikipedia.org/wiki/Domestic_market)\n",
    "2. <strong>Airline</strong><br>\n",
    "An airline is a company that provides air transport services for traveling passengers and freight. Airlines use aircraft to supply these services and may form partnerships or alliances with other airlines for codeshare agreements, in which they both offer and operate the same flight. \n",
    "3. <strong>Operating commercial carrier Flight code</strong><br>\n",
    "IATA airline designators, sometimes called IATA reservation codes, are two-character codes assigned by the International Air Transport Association (IATA) to the world's airlines. The standard is described in IATA's Standard Schedules Information Manual and the codes themselves are described in IATA's Airline Coding Directory.[1] (Both are published semiannually.)\n",
    "(Source: https://en.wikipedia.org/wiki/Airline_codes#IATA_airline_designator)\n",
    "4. <strong>Operating commercial carrier Flight number</strong><br>\n",
    "Flight number or flight designator is a code for an airline service consisting of two-character airline designator and a 1 to 4 digit number\n",
    "5. <strong>Codeshare agreement</strong><br>\n",
    "A codeshare agreement, also known as codeshare, is a business arrangement, common in the aviation industry, in which two or more airlines publish and market the same flight under their own airline designator and flight number (the \"airline flight code\") as part of their published timetable or schedule. Typically, a flight is operated by one airline (technically called an \"administrating carrier\" or \"operating carrier\") while seats are sold for the flight by all cooperating airlines using their own designator and flight number.\n",
    "The term \"code\" refers to the identifier used in a flight schedule, generally the two-character IATA airline designator code and flight number. Thus, XX224 (flight number 224 operated by the airline XX), might also be sold by airline YY as YY568 and by ZZ as ZZ9876. Airlines YY and ZZ are in this case called \"marketing airlines\" (sometimes abbreviated MKT CXR for \"marketing carrier\").\n",
    "(Source: https://en.wikipedia.org/wiki/Codeshare_agreement)\n",
    "6. <strong>Flight itinerary</strong><br>\n",
    "A flight itinerary is a proposed route for your flight. It includes the departure and arrival airports, connecting airports (if any), dates and times of the flights, flight numbers, passenger name, any meal preferences (if applicable), and your confirmation number.\n",
    "(Source: https://scottscheapflights.com/glossary/flight-itinerary)\n"
   ]
  }
 ],
 "metadata": {
  "kernelspec": {
   "display_name": "Python 3 (ipykernel)",
   "language": "python",
   "name": "python3"
  },
  "language_info": {
   "codemirror_mode": {
    "name": "ipython",
    "version": 3
   },
   "file_extension": ".py",
   "mimetype": "text/x-python",
   "name": "python",
   "nbconvert_exporter": "python",
   "pygments_lexer": "ipython3",
   "version": "3.9.12"
  }
 },
 "nbformat": 4,
 "nbformat_minor": 5
}
