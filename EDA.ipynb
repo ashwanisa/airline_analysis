{
 "cells": [
  {
   "cell_type": "code",
   "execution_count": 10,
   "id": "e74b8871",
   "metadata": {},
   "outputs": [],
   "source": [
    "import pandas as pd \n",
    "import numpy as np\n",
    "import matplotlib.pyplot as plt\n",
    "import plotly.express as px\n",
    "from scipy import stats\n",
    "from word2number import w2n\n",
    "import matplotlib\n",
    "import warnings\n",
    "warnings.filterwarnings(\"ignore\")\n",
    "\n",
    "# convert column's dtype from an object to datetime\n",
    "def datCnv(src):\n",
    "    return pd.to_datetime(src)\n",
    "\n",
    "# checks if column contains number in string  \n",
    "def has_numbers(inputString):\n",
    "    return any(char.isdigit() for char in inputString)\n",
    "\n",
    "# convert numbers written in alphabetical characeters to a numberic value \n",
    "def convert_word_to_number(word):\n",
    "    word = word.lower()\n",
    "    number = w2n.word_to_num(word)\n",
    "    return number \n",
    "\n",
    "#CALCULATING PROFIT,COSTS,REVENUE\n",
    "def calculate_profit(agg):\n",
    "    #arrival and departure delay costs on the first half of the round trip flight\n",
    "    agg['DEP_DELAY_mean_cost'] = (agg['DEP_DELAY_mean'] - 15)*75\n",
    "    agg['DEP_DELAY_mean_cost'] = np.where(agg.DEP_DELAY_mean_cost < 0, 0, agg.DEP_DELAY_mean_cost)\n",
    "    agg['ARR_DELAY_mean_cost'] = (agg['ARR_DELAY_mean'] - 15)*75\n",
    "    agg['ARR_DELAY_mean_cost'] = np.where(agg.ARR_DELAY_mean_cost < 0, 0, agg.ARR_DELAY_mean_cost)\n",
    "    \n",
    "    #arrival and departure delay costs on second half of the round trip flight\n",
    "    agg['NEXT_DEP_DELAY_mean_cost'] = (agg['NEXT_DEP_DELAY_mean'] - 15)*75\n",
    "    agg['NEXT_DEP_DELAY_mean_cost'] = np.where(agg.NEXT_DEP_DELAY_mean_cost < 0, 0, agg.NEXT_DEP_DELAY_mean_cost)\n",
    "    agg['NEXT_ARR_DELAY_mean_cost'] = (agg['NEXT_ARR_DELAY_mean'] - 15)*75\n",
    "    agg['NEXT_ARR_DELAY_mean_cost'] = np.where(agg.NEXT_ARR_DELAY_mean_cost < 0, 0, agg.NEXT_ARR_DELAY_mean_cost)\n",
    "    \n",
    "    #other sources of costs and revenue based on the assumptions given\n",
    "    agg['FOMC_cost'] = agg['DISTANCE_mean']*8\n",
    "    agg['DIO_cost'] = agg['DISTANCE_mean']*1.18\n",
    "    agg['NO_PASSENGERS_mean'] = (agg['OCCUPANCY_RATE_mean']*200).astype(int)\n",
    "    agg['BAGGAGE_mean_revenue'] = agg['NO_PASSENGERS_mean']*0.5*70\n",
    "    agg['ITIN_mean_revenue'] = agg['NO_PASSENGERS_mean']* agg['ITIN_FARE_median']\n",
    "    agg['TOTAL_REVENUE_mean'] = agg['BAGGAGE_mean_revenue'] + agg['ITIN_mean_revenue']\n",
    "    agg['TOTAL_operational_cost'] = agg['ORIGIN_op_cost'] + agg['DESTINATION_op_cost']\n",
    "    agg['TOTAL_COST_mean'] = agg['DEP_DELAY_mean_cost'] + agg['ARR_DELAY_mean_cost'] + agg['TOTAL_operational_cost'] + agg['FOMC_cost'] + agg['NEXT_DEP_DELAY_mean_cost'] +agg['NEXT_ARR_DELAY_mean_cost']\n",
    "    agg['TOTAL_PROFIT_mean'] = agg['TOTAL_REVENUE_mean'] - agg['TOTAL_COST_mean']\n",
    "    agg = agg.sort_values(by='TOTAL_PROFIT_mean', ascending=False)\n",
    "    return agg\n",
    "\n",
    "\n",
    "#include only round trip flights using the tickets dataset\n",
    "def process_tickets_dataset(dataset):\n",
    "    dataset = dataset[dataset.ROUNDTRIP == 1.0]\n",
    "    dataset['ITIN_FARE'] = dataset['ITIN_FARE'].str.replace(\"$\",\"\").astype(float)\n",
    "    dataset = dataset[['ORIGIN','DESTINATION','ITIN_FARE']]\n",
    "    return dataset\n",
    "\n",
    "#process flights dataset\n",
    "def process_flights(flights,airport_codes):\n",
    "    #exclude canceled flights and drop the cancelled column\n",
    "    flights = flights.drop(columns=['OP_CARRIER','ORIGIN_AIRPORT_ID','OP_CARRIER_FL_NUM','ORIGIN_CITY_NAME', 'DEST_AIRPORT_ID','DEST_CITY_NAME','AIR_TIME'],axis=1)\n",
    "    flights = flights[flights['CANCELLED'] == 0.0].drop(columns=['CANCELLED'],axis=1)\n",
    "\n",
    "    #classify airport size of the airport of the columns ORIGIN and Destination of the flights dataset\n",
    "    airport_codes = airport_codes.rename(columns={\"IATA_CODE\": \"ORIGIN\"})\n",
    "    flights =  pd.merge(flights,airport_codes,how='inner',on='ORIGIN')\n",
    "    airport_codes = airport_codes.rename(columns={\"ORIGIN\": \"DESTINATION\"})\n",
    "    flights =  pd.merge(flights,airport_codes,how='inner',on='DESTINATION')\n",
    "    flights = flights.rename(columns={\"TYPE_x\": \"ORIGIN_TYPE\",'TYPE_y':\"DESTINATION_TYPE\"})\n",
    "\n",
    "    #convert FL_DATE column into datetime64[ns] Dtype\n",
    "    flights['FL_DATE'] = flights.FL_DATE.apply(datCnv)\n",
    "\n",
    "    #sort flights dataset by ascending order based on the date(FL_DATE)\n",
    "    flights = flights.sort_values(by='FL_DATE',ascending=True)\n",
    "    flights['DISTANCE']  = flights['DISTANCE'].replace(['****','NAN'], np.nan)\n",
    "    flights['has_number'] = flights.apply(lambda x: has_numbers(str(x.DISTANCE)), axis=1)\n",
    "    distance_words = list(np.unique(list(flights[~flights['has_number']]['DISTANCE'].dropna())))\n",
    "    for word in distance_words:\n",
    "        flights['DISTANCE']  = flights['DISTANCE'].replace(word, convert_word_to_number(word)) \n",
    "    flights['DISTANCE'] = flights['DISTANCE'].astype(float)\n",
    "    flights['DISTANCE'] = round(2*flights['DISTANCE'])\n",
    "    flights['starts_with_N'] = list(map(lambda x: x.startswith('N'), flights['TAIL_NUM']))     \n",
    "    flights = flights[flights['starts_with_N']].drop(columns=['has_number','starts_with_N'])\n",
    "    #count number of NaN values per column\n",
    "    flights['ORIGIN_op_cost'] = np.where(flights['ORIGIN_TYPE'] == 'medium_airport',5000,10000)\n",
    "    flights['DESTINATION_op_cost'] = np.where(flights['DESTINATION_TYPE'] == 'medium_airport',5000,10000)\n",
    "    flights = flights.drop(columns=['ORIGIN_TYPE','DESTINATION_TYPE'])\n",
    "    return flights\n",
    "\n",
    "def filter_flights(flights):\n",
    "    table = pd.DataFrame(columns = flights.columns)\n",
    "    #list of the Tail Number of each unique plane \n",
    "    unique_plane_codes = list(np.unique(list(flights['TAIL_NUM'])))\n",
    "    for plane_code in unique_plane_codes:\n",
    "        #include round trip flights per unique plane using the TAIL\n",
    "        flights_plane = flights[flights['TAIL_NUM']==plane_code]\n",
    "        flights_shifted = flights_plane.shift(-1)\n",
    "\n",
    "        #calculate delay time on the way back of the round trip\n",
    "        flights_plane['NEXT_ARR_DELAY'] = flights_shifted['ARR_DELAY']\n",
    "        flights_plane['NEXT_DEP_DELAY'] = flights_shifted['DEP_DELAY']\n",
    "\n",
    "        #include only round trips\n",
    "        flights_plane['NEXT_ORIGIN'] = flights_shifted['ORIGIN']\n",
    "        flights_plane['NEXT_DESTINATION'] = flights_shifted['DESTINATION']\n",
    "        #conditions_1 and condition_2 are based on the assumption stated above\n",
    "        condition_1 = (flights_plane['NEXT_DESTINATION'] == flights_plane['ORIGIN'] ).astype(int)\n",
    "        condition_2 = (flights_plane['NEXT_ORIGIN'] == flights_plane['DESTINATION']).astype(int)\n",
    "        flights_plane['CON_1'] = condition_1\n",
    "        flights_plane['CON_2'] = condition_2\n",
    "        flights_plane['ROUND_TRIP'] = (flights_plane['CON_1'].astype(int) + flights_plane['CON_2'].astype(int))\n",
    "        #if ROUND_TRIP equals to 2, the flight is a round trip\n",
    "        flights_plane = flights_plane[flights_plane['ROUND_TRIP']==2]\n",
    "\n",
    "        #drop irrelevant columns\n",
    "        flights_plane = flights_plane.drop(columns=['NEXT_ORIGIN','NEXT_DESTINATION','CON_1', 'CON_2','ROUND_TRIP'],axis=1) \n",
    "        table = pd.concat([table,flights_plane])\n",
    "    return table"
   ]
  },
  {
   "cell_type": "markdown",
   "id": "c4890ccb",
   "metadata": {},
   "source": [
    "## Flights dataset \n",
    "### Column description\n",
    "Contains data about available routes from origin to destination. For\n",
    "occupancy, use the data provided in this dataset. "
   ]
  },
  {
   "cell_type": "code",
   "execution_count": 2,
   "id": "142827ca",
   "metadata": {},
   "outputs": [
    {
     "data": {
      "text/html": [
       "<div>\n",
       "<style scoped>\n",
       "    .dataframe tbody tr th:only-of-type {\n",
       "        vertical-align: middle;\n",
       "    }\n",
       "\n",
       "    .dataframe tbody tr th {\n",
       "        vertical-align: top;\n",
       "    }\n",
       "\n",
       "    .dataframe thead th {\n",
       "        text-align: right;\n",
       "    }\n",
       "</style>\n",
       "<table border=\"1\" class=\"dataframe\">\n",
       "  <thead>\n",
       "    <tr style=\"text-align: right;\">\n",
       "      <th></th>\n",
       "      <th>Field Name</th>\n",
       "      <th>Description</th>\n",
       "    </tr>\n",
       "  </thead>\n",
       "  <tbody>\n",
       "    <tr>\n",
       "      <th>0</th>\n",
       "      <td>FL_DATE</td>\n",
       "      <td>Flight Date (yyyy-mm-dd)</td>\n",
       "    </tr>\n",
       "    <tr>\n",
       "      <th>1</th>\n",
       "      <td>OP_CARRIER</td>\n",
       "      <td>Operating commercial carrier Flight code</td>\n",
       "    </tr>\n",
       "    <tr>\n",
       "      <th>2</th>\n",
       "      <td>TAIL_NUM</td>\n",
       "      <td>Tail Number is the aircraft registration number for the aircraft used (similar to VIN number for cars).</td>\n",
       "    </tr>\n",
       "    <tr>\n",
       "      <th>3</th>\n",
       "      <td>OP_CARRIER_FL_NUM</td>\n",
       "      <td>Operating commercial carrier Flight number</td>\n",
       "    </tr>\n",
       "    <tr>\n",
       "      <th>4</th>\n",
       "      <td>ORIGIN_AIRPORT_ID</td>\n",
       "      <td>Origin Airport, Airport ID. An identification number assigned by US DOT to identify a unique airport.</td>\n",
       "    </tr>\n",
       "    <tr>\n",
       "      <th>5</th>\n",
       "      <td>ORIGIN</td>\n",
       "      <td>Origin Airport, International Air Transport Association (IATA) Airport Code</td>\n",
       "    </tr>\n",
       "    <tr>\n",
       "      <th>6</th>\n",
       "      <td>ORIGIN_CITY_NAME</td>\n",
       "      <td>Origin Airport, City Name\\t\\t</td>\n",
       "    </tr>\n",
       "    <tr>\n",
       "      <th>7</th>\n",
       "      <td>DEST_AIRPORT_ID</td>\n",
       "      <td>Destination Airport, Airport ID. An identification number assigned by US DOT to identify a unique airport.</td>\n",
       "    </tr>\n",
       "    <tr>\n",
       "      <th>8</th>\n",
       "      <td>DESTINATION</td>\n",
       "      <td>Destination Airport, Operating commercial carrier Flight code (IATA )Airport Code</td>\n",
       "    </tr>\n",
       "    <tr>\n",
       "      <th>9</th>\n",
       "      <td>DEST_CITY_NAME</td>\n",
       "      <td>Destination Airport, City Name</td>\n",
       "    </tr>\n",
       "    <tr>\n",
       "      <th>10</th>\n",
       "      <td>DEP_DELAY</td>\n",
       "      <td>Difference in minutes between scheduled and actual departure time. Early departures show negative numbers.</td>\n",
       "    </tr>\n",
       "    <tr>\n",
       "      <th>11</th>\n",
       "      <td>ARR_DELAY</td>\n",
       "      <td>Difference in minutes between scheduled and actual arrival time. Early arrivals show negative numbers.</td>\n",
       "    </tr>\n",
       "    <tr>\n",
       "      <th>12</th>\n",
       "      <td>CANCELLED</td>\n",
       "      <td>Cancelled Flight Indicator (1=Flight is cancelled).  Cancelled flights should be excluded</td>\n",
       "    </tr>\n",
       "    <tr>\n",
       "      <th>13</th>\n",
       "      <td>AIR_TIME</td>\n",
       "      <td>Flight Time, in Minutes\\t\\t</td>\n",
       "    </tr>\n",
       "    <tr>\n",
       "      <th>14</th>\n",
       "      <td>DISTANCE</td>\n",
       "      <td>Distance between Origin and Destination Airports in Miles</td>\n",
       "    </tr>\n",
       "    <tr>\n",
       "      <th>15</th>\n",
       "      <td>OCCUPANCY_RATE</td>\n",
       "      <td>Occupancy rate of the flight</td>\n",
       "    </tr>\n",
       "  </tbody>\n",
       "</table>\n",
       "</div>"
      ],
      "text/plain": [
       "           Field Name  \\\n",
       "0             FL_DATE   \n",
       "1          OP_CARRIER   \n",
       "2            TAIL_NUM   \n",
       "3   OP_CARRIER_FL_NUM   \n",
       "4   ORIGIN_AIRPORT_ID   \n",
       "5              ORIGIN   \n",
       "6    ORIGIN_CITY_NAME   \n",
       "7     DEST_AIRPORT_ID   \n",
       "8         DESTINATION   \n",
       "9      DEST_CITY_NAME   \n",
       "10          DEP_DELAY   \n",
       "11          ARR_DELAY   \n",
       "12          CANCELLED   \n",
       "13           AIR_TIME   \n",
       "14           DISTANCE   \n",
       "15     OCCUPANCY_RATE   \n",
       "\n",
       "                                                                                                   Description  \n",
       "0                                                                                     Flight Date (yyyy-mm-dd)  \n",
       "1                                                                     Operating commercial carrier Flight code  \n",
       "2      Tail Number is the aircraft registration number for the aircraft used (similar to VIN number for cars).  \n",
       "3                                                                   Operating commercial carrier Flight number  \n",
       "4       Origin Airport, Airport ID. An identification number assigned by US DOT to identify a unique airport.   \n",
       "5                                  Origin Airport, International Air Transport Association (IATA) Airport Code  \n",
       "6                                                                                Origin Airport, City Name\\t\\t  \n",
       "7   Destination Airport, Airport ID. An identification number assigned by US DOT to identify a unique airport.  \n",
       "8                            Destination Airport, Operating commercial carrier Flight code (IATA )Airport Code  \n",
       "9                                                                               Destination Airport, City Name  \n",
       "10  Difference in minutes between scheduled and actual departure time. Early departures show negative numbers.  \n",
       "11      Difference in minutes between scheduled and actual arrival time. Early arrivals show negative numbers.  \n",
       "12                   Cancelled Flight Indicator (1=Flight is cancelled).  Cancelled flights should be excluded  \n",
       "13                                                                                 Flight Time, in Minutes\\t\\t  \n",
       "14                                                   Distance between Origin and Destination Airports in Miles  \n",
       "15                                                                                Occupancy rate of the flight  "
      ]
     },
     "execution_count": 2,
     "metadata": {},
     "output_type": "execute_result"
    }
   ],
   "source": [
    "metadata = 'Airline_Challenge_Metadata.xlsx'\n",
    "destination_folder = '../data/'\n",
    "pd.set_option('display.max_colwidth', None)\n",
    "flights_desc = pd.ExcelFile(destination_folder+metadata,engine='openpyxl').parse('Flights Metadata')\n",
    "flights_desc"
   ]
  },
  {
   "cell_type": "markdown",
   "id": "e2df763d",
   "metadata": {},
   "source": [
    "## Tickets dataset \n",
    "### Column description\n",
    "Ticket prices data (sample data only as the data is huge). Consider\n",
    "only round trips in your analysis."
   ]
  },
  {
   "cell_type": "code",
   "execution_count": 3,
   "id": "b53aa91b",
   "metadata": {},
   "outputs": [
    {
     "data": {
      "text/html": [
       "<div>\n",
       "<style scoped>\n",
       "    .dataframe tbody tr th:only-of-type {\n",
       "        vertical-align: middle;\n",
       "    }\n",
       "\n",
       "    .dataframe tbody tr th {\n",
       "        vertical-align: top;\n",
       "    }\n",
       "\n",
       "    .dataframe thead th {\n",
       "        text-align: right;\n",
       "    }\n",
       "</style>\n",
       "<table border=\"1\" class=\"dataframe\">\n",
       "  <thead>\n",
       "    <tr style=\"text-align: right;\">\n",
       "      <th></th>\n",
       "      <th>Field Name</th>\n",
       "      <th>Description</th>\n",
       "    </tr>\n",
       "  </thead>\n",
       "  <tbody>\n",
       "    <tr>\n",
       "      <th>0</th>\n",
       "      <td>ITIN_ID</td>\n",
       "      <td>Unique identifier for the itinerary</td>\n",
       "    </tr>\n",
       "    <tr>\n",
       "      <th>1</th>\n",
       "      <td>YEAR</td>\n",
       "      <td>Year of the Itinerary</td>\n",
       "    </tr>\n",
       "    <tr>\n",
       "      <th>2</th>\n",
       "      <td>QUARTER</td>\n",
       "      <td>Quarter Number (1-4) for the Itinerary</td>\n",
       "    </tr>\n",
       "    <tr>\n",
       "      <th>3</th>\n",
       "      <td>ORIGIN</td>\n",
       "      <td>Origin Airport Code, International Air Transport Association Airport Code (IATA) which is unique for each airport</td>\n",
       "    </tr>\n",
       "    <tr>\n",
       "      <th>4</th>\n",
       "      <td>ORIGIN_COUNTRY</td>\n",
       "      <td>Country of the Origin Airport</td>\n",
       "    </tr>\n",
       "    <tr>\n",
       "      <th>5</th>\n",
       "      <td>ORIGIN_STATE_ABR</td>\n",
       "      <td>Origin Airport, State abbrevations.</td>\n",
       "    </tr>\n",
       "    <tr>\n",
       "      <th>6</th>\n",
       "      <td>ORIGIN_STATE_NM</td>\n",
       "      <td>Origin Airport, State Full Name</td>\n",
       "    </tr>\n",
       "    <tr>\n",
       "      <th>7</th>\n",
       "      <td>ROUNDTRIP</td>\n",
       "      <td>Round Trip Indicator (1= Round Trip and 0 = One Way).  Consider only round trips for your analysis.</td>\n",
       "    </tr>\n",
       "    <tr>\n",
       "      <th>8</th>\n",
       "      <td>REPORTING_CARRIER</td>\n",
       "      <td>2 character Reporting Airline Carrier codes</td>\n",
       "    </tr>\n",
       "    <tr>\n",
       "      <th>9</th>\n",
       "      <td>PASSENGERS</td>\n",
       "      <td>Number of Passengers on the itinerary</td>\n",
       "    </tr>\n",
       "    <tr>\n",
       "      <th>10</th>\n",
       "      <td>ITIN_FARE</td>\n",
       "      <td>Itinerary Fare Per Person. Itinerary fare represents the whole round trip fare if ROUNDTRIP = 1. If ROUNDTRIP = 0, then the itinerary fare represents the one-way ticket fare.</td>\n",
       "    </tr>\n",
       "    <tr>\n",
       "      <th>11</th>\n",
       "      <td>DESTINATION</td>\n",
       "      <td>Destination Airport Code, International Air Transport Association Airport Code (IATA) which is unique for each airport</td>\n",
       "    </tr>\n",
       "  </tbody>\n",
       "</table>\n",
       "</div>"
      ],
      "text/plain": [
       "           Field Name  \\\n",
       "0             ITIN_ID   \n",
       "1                YEAR   \n",
       "2             QUARTER   \n",
       "3              ORIGIN   \n",
       "4      ORIGIN_COUNTRY   \n",
       "5    ORIGIN_STATE_ABR   \n",
       "6     ORIGIN_STATE_NM   \n",
       "7           ROUNDTRIP   \n",
       "8   REPORTING_CARRIER   \n",
       "9          PASSENGERS   \n",
       "10          ITIN_FARE   \n",
       "11        DESTINATION   \n",
       "\n",
       "                                                                                                                                                                       Description  \n",
       "0                                                                                                                                              Unique identifier for the itinerary  \n",
       "1                                                                                                                                                            Year of the Itinerary  \n",
       "2                                                                                                                                           Quarter Number (1-4) for the Itinerary  \n",
       "3                                                                Origin Airport Code, International Air Transport Association Airport Code (IATA) which is unique for each airport  \n",
       "4                                                                                                                                                    Country of the Origin Airport  \n",
       "5                                                                                                                                              Origin Airport, State abbrevations.  \n",
       "6                                                                                                                                                  Origin Airport, State Full Name  \n",
       "7                                                                              Round Trip Indicator (1= Round Trip and 0 = One Way).  Consider only round trips for your analysis.  \n",
       "8                                                                                                                                      2 character Reporting Airline Carrier codes  \n",
       "9                                                                                                                                            Number of Passengers on the itinerary  \n",
       "10  Itinerary Fare Per Person. Itinerary fare represents the whole round trip fare if ROUNDTRIP = 1. If ROUNDTRIP = 0, then the itinerary fare represents the one-way ticket fare.  \n",
       "11                                                          Destination Airport Code, International Air Transport Association Airport Code (IATA) which is unique for each airport  "
      ]
     },
     "execution_count": 3,
     "metadata": {},
     "output_type": "execute_result"
    }
   ],
   "source": [
    "pd.set_option('display.max_colwidth', None)\n",
    "tickets_desc = pd.ExcelFile(destination_folder+metadata,engine='openpyxl').parse('Tickets Metadata')\n",
    "tickets_desc"
   ]
  },
  {
   "cell_type": "markdown",
   "id": "3bb8846c",
   "metadata": {},
   "source": [
    "## Airport dataset \n",
    "### Column description\n",
    "Identifies whether an airport is considered medium or large\n",
    "sized. Consider only medium and large airports in your analysis."
   ]
  },
  {
   "cell_type": "code",
   "execution_count": 4,
   "id": "adde6217",
   "metadata": {},
   "outputs": [
    {
     "data": {
      "text/html": [
       "<div>\n",
       "<style scoped>\n",
       "    .dataframe tbody tr th:only-of-type {\n",
       "        vertical-align: middle;\n",
       "    }\n",
       "\n",
       "    .dataframe tbody tr th {\n",
       "        vertical-align: top;\n",
       "    }\n",
       "\n",
       "    .dataframe thead th {\n",
       "        text-align: right;\n",
       "    }\n",
       "</style>\n",
       "<table border=\"1\" class=\"dataframe\">\n",
       "  <thead>\n",
       "    <tr style=\"text-align: right;\">\n",
       "      <th></th>\n",
       "      <th>Field Name</th>\n",
       "      <th>Description</th>\n",
       "    </tr>\n",
       "  </thead>\n",
       "  <tbody>\n",
       "    <tr>\n",
       "      <th>0</th>\n",
       "      <td>TYPE</td>\n",
       "      <td>The type of the airport, valid value like: small_airport, medium_airport, heliport, etc.</td>\n",
       "    </tr>\n",
       "    <tr>\n",
       "      <th>1</th>\n",
       "      <td>NAME</td>\n",
       "      <td>The name of the airport</td>\n",
       "    </tr>\n",
       "    <tr>\n",
       "      <th>2</th>\n",
       "      <td>ELEVATION_FT</td>\n",
       "      <td>Elevation of the airport from the sea level</td>\n",
       "    </tr>\n",
       "    <tr>\n",
       "      <th>3</th>\n",
       "      <td>CONTINENT</td>\n",
       "      <td>The continent airport belongs to</td>\n",
       "    </tr>\n",
       "    <tr>\n",
       "      <th>4</th>\n",
       "      <td>ISO_COUNTRY</td>\n",
       "      <td>The country of the airport</td>\n",
       "    </tr>\n",
       "    <tr>\n",
       "      <th>5</th>\n",
       "      <td>MUNICIPALITY</td>\n",
       "      <td>The city or town of the airport</td>\n",
       "    </tr>\n",
       "    <tr>\n",
       "      <th>6</th>\n",
       "      <td>IATA_CODE</td>\n",
       "      <td>An airport code is a three-letter geocode designating many airports and metropolitan areas around the world, defined by the International Air Transport Association (IATA).</td>\n",
       "    </tr>\n",
       "    <tr>\n",
       "      <th>7</th>\n",
       "      <td>COORDINATES</td>\n",
       "      <td>Longitude and latitude coordinates of the airport</td>\n",
       "    </tr>\n",
       "  </tbody>\n",
       "</table>\n",
       "</div>"
      ],
      "text/plain": [
       "     Field Name  \\\n",
       "0          TYPE   \n",
       "1          NAME   \n",
       "2  ELEVATION_FT   \n",
       "3     CONTINENT   \n",
       "4   ISO_COUNTRY   \n",
       "5  MUNICIPALITY   \n",
       "6     IATA_CODE   \n",
       "7   COORDINATES   \n",
       "\n",
       "                                                                                                                                                                    Description  \n",
       "0                                                                                     The type of the airport, valid value like: small_airport, medium_airport, heliport, etc.   \n",
       "1                                                                                                                                                       The name of the airport  \n",
       "2                                                                                                                                   Elevation of the airport from the sea level  \n",
       "3                                                                                                                                              The continent airport belongs to  \n",
       "4                                                                                                                                                    The country of the airport  \n",
       "5                                                                                                                                              The city or town of the airport   \n",
       "6  An airport code is a three-letter geocode designating many airports and metropolitan areas around the world, defined by the International Air Transport Association (IATA).   \n",
       "7                                                                                                                             Longitude and latitude coordinates of the airport  "
      ]
     },
     "execution_count": 4,
     "metadata": {},
     "output_type": "execute_result"
    }
   ],
   "source": [
    "pd.set_option('display.max_colwidth', None)\n",
    "airports_desc = pd.ExcelFile(destination_folder+metadata,engine='openpyxl').parse('Airport Codes Metadata')\n",
    "airports_desc"
   ]
  },
  {
   "cell_type": "markdown",
   "id": "79b1824c",
   "metadata": {},
   "source": [
    "### Exercise 1\n",
    "The 10 busiest round trip routes in terms of number of round trip flights in the quarter.\n",
    "Exclude canceled flights when performing the calculation.\n",
    "#### Data Cleaning: Airports Dataset\n",
    "The columns that are relevant for this analysis are <strong>TYPE</strong> and <strong>IATA_CODE</strong>. The airports dataset will be used to map the IATA_CODE column with the ORIGIN and DESTINATION column of the flights dataset. Due to the distriction of not being able to use any data other than what has been provided for this project, the best choice is to drop any columns that have NaN values in the IATA_CODE column."
   ]
  },
  {
   "cell_type": "code",
   "execution_count": 11,
   "id": "125aff99",
   "metadata": {},
   "outputs": [
    {
     "name": "stdout",
     "output_type": "stream",
     "text": [
      "Number of NaN values for each column of the airports dataset:\n",
      "TYPE         0\n",
      "IATA_CODE    0\n",
      "dtype: int64\n"
     ]
    }
   ],
   "source": [
    "#reading airports dataset\n",
    "airport_codes = pd.read_csv( destination_folder + 'airport_codes.csv')[['TYPE','IATA_CODE']]\n",
    "#drop rows where IATA_CODE is a NaN value\n",
    "airport_codes = airport_codes[airport_codes['IATA_CODE'].notnull()]\n",
    "#filtering for only medium and large size airports\n",
    "airport_codes = airport_codes[(airport_codes['TYPE'] == 'medium_airport') | (airport_codes['TYPE'] == 'large_airport')]\n",
    "\n",
    "print('Number of NaN values for each column of the airports dataset:')\n",
    "print(airport_codes.isnull().sum(axis = 0))"
   ]
  },
  {
   "cell_type": "code",
   "execution_count": 12,
   "id": "14deb1d9",
   "metadata": {},
   "outputs": [
    {
     "data": {
      "image/png": "[encoded data removed]",
      "text/plain": [
       "<Figure size 432x288 with 1 Axes>"
      ]
     },
     "metadata": {
      "needs_background": "light"
     },
     "output_type": "display_data"
    }
   ],
   "source": [
    "# creating the plot for counting the number of airports of large and medium size\n",
    "airport_types = list(airport_codes.TYPE.value_counts().keys())\n",
    "airport_counts = list(airport_codes.TYPE.value_counts())\n",
    "airport_data = {'TYPE':airport_types, 'COUNTS':airport_counts }\n",
    "airport_distribution = pd.DataFrame(data=airport_data)\n",
    "plt.bar( airport_distribution.TYPE,airport_distribution.COUNTS , color ='skyblue', width = 0.4)\n",
    "plt.xticks(rotation = 45) # Rotates X-Axis Ticks by 45-degrees\n",
    "plt.xlabel(\"Airport Size (TYPE)\")\n",
    "plt.ylabel(\"Number of airports\")\n",
    "plt.title(\"Count of airports per size, in the airports dataset.\")\n",
    "plt.show()"
   ]
  },
  {
   "cell_type": "markdown",
   "id": "543309f8",
   "metadata": {},
   "source": [
    "#### Data Cleaning (Flights Dataset)"
   ]
  },
  {
   "cell_type": "code",
   "execution_count": 7,
   "id": "67885996",
   "metadata": {},
   "outputs": [
    {
     "name": "stdout",
     "output_type": "stream",
     "text": [
      "Number of NaN values for each column\n",
      "FL_DATE                0\n",
      "TAIL_NUM               0\n",
      "ORIGIN                 0\n",
      "DESTINATION            0\n",
      "DEP_DELAY              0\n",
      "ARR_DELAY           4255\n",
      "DISTANCE            2660\n",
      "OCCUPANCY_RATE       310\n",
      "ORIGIN_TYPE            0\n",
      "DESTINATION_TYPE       0\n",
      "dtype: int64\n",
      "Column names and their corresponding Dtype\n",
      "<class 'pandas.core.frame.DataFrame'>\n",
      "Int64Index: 1829596 entries, 1068001 to 744616\n",
      "Data columns (total 10 columns):\n",
      " #   Column               Dtype         \n",
      "---  ------               -----         \n",
      " 0   FL_DATE              datetime64[ns]\n",
      " 1   TAIL_NUM             object        \n",
      " 2   ORIGIN               object        \n",
      " 3   DESTINATION          object        \n",
      " 4   DEP_DELAY            float64       \n",
      " 5   ARR_DELAY            float64       \n",
      " 6   DISTANCE             float64       \n",
      " 7   OCCUPANCY_RATE       float64       \n",
      " 8   ORIGIN_op_cost       int64         \n",
      " 9   DESTINATION_op_cost  int64         \n",
      "dtypes: datetime64[ns](1), float64(4), int64(2), object(3)\n",
      "memory usage: 153.5+ MB\n",
      "None\n",
      "Number of NaN values for each column\n",
      "FL_DATE                   0\n",
      "TAIL_NUM                  0\n",
      "ORIGIN                    0\n",
      "DESTINATION               0\n",
      "DEP_DELAY                 0\n",
      "ARR_DELAY              4255\n",
      "DISTANCE               2660\n",
      "OCCUPANCY_RATE          310\n",
      "ORIGIN_op_cost            0\n",
      "DESTINATION_op_cost       0\n",
      "dtype: int64\n"
     ]
    }
   ],
   "source": [
    "#read flights dataset, and drop irrelevant columns\n",
    "flights = pd.read_csv(destination_folder + 'Flights.csv')\n",
    "flights = process_flights(flights,airport_codes)\n",
    "\n",
    "#check columns dtype\n",
    "print('Column names and their corresponding Dtype')\n",
    "print(flights.info())\n",
    "\n",
    "#count number of NaN values per column\n",
    "print('Number of NaN values for each column')\n",
    "print(flights.isnull().sum(axis = 0))"
   ]
  },
  {
   "cell_type": "code",
   "execution_count": 8,
   "id": "d691c519",
   "metadata": {},
   "outputs": [
    {
     "data": {
      "text/html": [
       "<div>\n",
       "<style scoped>\n",
       "    .dataframe tbody tr th:only-of-type {\n",
       "        vertical-align: middle;\n",
       "    }\n",
       "\n",
       "    .dataframe tbody tr th {\n",
       "        vertical-align: top;\n",
       "    }\n",
       "\n",
       "    .dataframe thead th {\n",
       "        text-align: right;\n",
       "    }\n",
       "</style>\n",
       "<table border=\"1\" class=\"dataframe\">\n",
       "  <thead>\n",
       "    <tr style=\"text-align: right;\">\n",
       "      <th></th>\n",
       "      <th>FL_DATE</th>\n",
       "      <th>TAIL_NUM</th>\n",
       "      <th>ORIGIN</th>\n",
       "      <th>DESTINATION</th>\n",
       "      <th>DEP_DELAY</th>\n",
       "      <th>ARR_DELAY</th>\n",
       "      <th>DISTANCE</th>\n",
       "      <th>OCCUPANCY_RATE</th>\n",
       "      <th>ORIGIN_op_cost</th>\n",
       "      <th>DESTINATION_op_cost</th>\n",
       "    </tr>\n",
       "  </thead>\n",
       "  <tbody>\n",
       "    <tr>\n",
       "      <th>1068001</th>\n",
       "      <td>2019-01-01</td>\n",
       "      <td>N896SK</td>\n",
       "      <td>FCA</td>\n",
       "      <td>SLC</td>\n",
       "      <td>1.0</td>\n",
       "      <td>5.0</td>\n",
       "      <td>1062.0</td>\n",
       "      <td>0.45</td>\n",
       "      <td>5000</td>\n",
       "      <td>10000</td>\n",
       "    </tr>\n",
       "    <tr>\n",
       "      <th>663556</th>\n",
       "      <td>2019-01-01</td>\n",
       "      <td>N225NN</td>\n",
       "      <td>GJT</td>\n",
       "      <td>DFW</td>\n",
       "      <td>-2.0</td>\n",
       "      <td>18.0</td>\n",
       "      <td>1546.0</td>\n",
       "      <td>0.82</td>\n",
       "      <td>5000</td>\n",
       "      <td>10000</td>\n",
       "    </tr>\n",
       "    <tr>\n",
       "      <th>663500</th>\n",
       "      <td>2019-01-01</td>\n",
       "      <td>N253NN</td>\n",
       "      <td>GJT</td>\n",
       "      <td>DFW</td>\n",
       "      <td>1.0</td>\n",
       "      <td>16.0</td>\n",
       "      <td>1546.0</td>\n",
       "      <td>0.91</td>\n",
       "      <td>5000</td>\n",
       "      <td>10000</td>\n",
       "    </tr>\n",
       "    <tr>\n",
       "      <th>1155692</th>\n",
       "      <td>2019-01-01</td>\n",
       "      <td>N8721J</td>\n",
       "      <td>PHX</td>\n",
       "      <td>HOU</td>\n",
       "      <td>-3.0</td>\n",
       "      <td>-15.0</td>\n",
       "      <td>2040.0</td>\n",
       "      <td>0.91</td>\n",
       "      <td>10000</td>\n",
       "      <td>10000</td>\n",
       "    </tr>\n",
       "    <tr>\n",
       "      <th>1155693</th>\n",
       "      <td>2019-01-01</td>\n",
       "      <td>N731SA</td>\n",
       "      <td>PHX</td>\n",
       "      <td>HOU</td>\n",
       "      <td>0.0</td>\n",
       "      <td>5.0</td>\n",
       "      <td>2040.0</td>\n",
       "      <td>0.69</td>\n",
       "      <td>10000</td>\n",
       "      <td>10000</td>\n",
       "    </tr>\n",
       "  </tbody>\n",
       "</table>\n",
       "</div>"
      ],
      "text/plain": [
       "           FL_DATE TAIL_NUM ORIGIN DESTINATION  DEP_DELAY  ARR_DELAY  \\\n",
       "1068001 2019-01-01   N896SK    FCA         SLC        1.0        5.0   \n",
       "663556  2019-01-01   N225NN    GJT         DFW       -2.0       18.0   \n",
       "663500  2019-01-01   N253NN    GJT         DFW        1.0       16.0   \n",
       "1155692 2019-01-01   N8721J    PHX         HOU       -3.0      -15.0   \n",
       "1155693 2019-01-01   N731SA    PHX         HOU        0.0        5.0   \n",
       "\n",
       "         DISTANCE  OCCUPANCY_RATE  ORIGIN_op_cost  DESTINATION_op_cost  \n",
       "1068001    1062.0            0.45            5000                10000  \n",
       "663556     1546.0            0.82            5000                10000  \n",
       "663500     1546.0            0.91            5000                10000  \n",
       "1155692    2040.0            0.91           10000                10000  \n",
       "1155693    2040.0            0.69           10000                10000  "
      ]
     },
     "execution_count": 8,
     "metadata": {},
     "output_type": "execute_result"
    }
   ],
   "source": [
    "flights.head()"
   ]
  },
  {
   "cell_type": "markdown",
   "id": "4db64dbd",
   "metadata": {},
   "source": [
    "For this analysis, the following columns are being used:\n",
    "- <strong>FL_DATE</strong> <br>\n",
    "This variable consists of dates that are formatted differently. The two formats that were identified were year-month-day and month/day/year. This was solved by applying the datCnv function to the column.\n",
    "- <strong>TAIL_NUM</strong> <br>\n",
    "This column doesn't have any NaN values. Aircraft Tail Numbers are unique and each combination represents a different plane. A tail number is an alphanumeric code between two and six characters in length used to identify a specific airplane. The alphabetical prefix of a tail number is indicative of an airplane's country of origin. All United States-based tail numbers begin with “N\". <br>\n",
    "(Source: https://www.aircharteradvisors.com/what-are-tail-numbers/)\n",
    "- <strong>DISTANCE</strong> <br>\n",
    "Costs regarding fuel, oil, maintenance, crew, depreciation, insurance and others, are derived by multiplying the costs per mile with the distance between the two airports measured in miles. The NaN values \n",
    "- <strong>DEP_DELAY & ARR_DELAY</strong> <br>\n",
    "Both variables are being used to calculate the cost that stem from delays in either departure or arrival. \n",
    "- <strong>ORIGIN_TYPE & DESTINATION_TYPE</strong> <br>\n",
    "Both variables are being used to calculate the operational costs linked to the size of both the airport of origin and destination. \n",
    "\n",
    "\n",
    "<strong>Filling NaN values</strong> <br>\n",
    "The ARR_DELAY, DISTANCE , and OCCUPANCY_RATE columns contain NaN values. They are filled at a later point with the mean of other instances of round trip flights that have identical ORIGIN and DESTINATION values."
   ]
  },
  {
   "cell_type": "markdown",
   "id": "43b25ffc",
   "metadata": {},
   "source": [
    "#### Assumptions:\n",
    "A flight can be considered as a round trip, if these two conditions are met:\n",
    "1. The current flight's origin airport id is the same as the next flight's destination airport id\n",
    "2. The next flight's origin airport id is the same as the current flight's airport destination id<br>\n",
    "The terms \"current\" and \"next\" refers to the datapoint that corresponds to a flight. Flights are sorted by the FL_DATE dataset by ascending order.<br>"
   ]
  },
  {
   "cell_type": "code",
   "execution_count": null,
   "id": "30df55f9",
   "metadata": {},
   "outputs": [],
   "source": [
    "df = filter_flights(flights)\n",
    "df.to_csv('flights_filtered.csv')"
   ]
  },
  {
   "cell_type": "code",
   "execution_count": 13,
   "id": "909b9c43",
   "metadata": {},
   "outputs": [
    {
     "data": {
      "image/png": "[encoded data removed]",
      "text/plain": [
       "<Figure size 432x288 with 1 Axes>"
      ]
     },
     "metadata": {
      "needs_background": "light"
     },
     "output_type": "display_data"
    }
   ],
   "source": [
    "#reading filtered flights dataset\n",
    "df = pd.read_csv('flights_filtered.csv',index_col=[0])\n",
    "\n",
    "#count number of flights per round trip combination (Approach 1)\n",
    "agg1 = df.groupby(['ORIGIN', 'DESTINATION']).size().reset_index().rename(columns={0:'NO_FLIGHTS'})\n",
    "agg1['ORIGIN_DESTINATION'] = agg1['ORIGIN'] + '_' + agg1['DESTINATION']\n",
    "# creating the bar plot\n",
    "plt.bar(agg1.sort_values(by='NO_FLIGHTS', ascending=False).ORIGIN_DESTINATION[:10], agg1.sort_values(by='NO_FLIGHTS', ascending=False).NO_FLIGHTS[:10], color ='black',\n",
    "        width = 0.4)\n",
    "plt.xticks(rotation = 45) # Rotates X-Axis Ticks by 45-degrees\n",
    "plt.xlabel(\"Round trip routes\")\n",
    "plt.ylabel(\"No. of flights\")\n",
    "plt.title(\"10 busiest round trip routes in terms of number of round trip flights in the quarter. (Approach 1)\")\n",
    "plt.show()"
   ]
  },
  {
   "cell_type": "markdown",
   "id": "35f2159b",
   "metadata": {},
   "source": [
    "### Exercise 2\n",
    "The 10 most profitable round trip routes (without considering the upfront airplane cost) in\n",
    "the quarter. Along with the profit, show total revenue, total cost, summary values of\n",
    "other key components and total round trip flights in the quarter for the top 10 most\n",
    "profitable routes. Exclude canceled flights from these calculations."
   ]
  },
  {
   "cell_type": "markdown",
   "id": "1e977ed0",
   "metadata": {},
   "source": [
    "#### Costs\n",
    "1. Fuel, Oil, Maintenance, Crew - 8 USD per mile total\n",
    "2. Depreciation, Insurance, Other - 1.18 USD per mile total\n",
    "3. Airport operational costs for the right to use the airports and related services are fixed at 5000 USD for medium airports and 10000 USD for large airports. There is one charge for each airport where a flight lands. Thus, a round trip flight has a total of two airport charges.\n",
    "4. For each individual departure, the first 15 minutes of delays are free, otherwise each minute costs the airline 75 USD in added operational costs.\n",
    "5. For each individual arrival, the first 15 minutes of delays are free, otherwise each minute costs the airline 75 USD in added operational costs.\n"
   ]
  },
  {
   "cell_type": "markdown",
   "id": "2737ffc6",
   "metadata": {},
   "source": [
    "#### Revenue\n",
    "1. Each plane can accommodate up to 200 passengers and each flight has an associated occupancy rate provided in the Flights data set. Do not use the Tickets data set to determine occupancy.\n",
    "2. Baggage fee is 35 USD for each checked bag per flight. We expect 50% of passengers to check an average of 1 bag per flight. The fee is charged separately for each leg of a round trip flight, thus 50% of passengers will be\n",
    "charged a total of 70 USD in baggage fees for a round trip flight.\n",
    "3. Disregard seasonal effects on ticket prices (i.e. ticket prices are the same in April\n",
    "as they are on Memorial Day or in December)"
   ]
  },
  {
   "cell_type": "code",
   "execution_count": 14,
   "id": "e2809465",
   "metadata": {},
   "outputs": [],
   "source": [
    "df = pd.read_csv('flights_filtered.csv',index_col=[0])\n",
    "\n",
    "#count number of flights per round trip combination (Approach 1)\n",
    "agg1 = df.groupby(['ORIGIN', 'DESTINATION']).size().reset_index().rename(columns={0:'NO_FLIGHTS'})\n",
    "\n",
    "#calculating the mean of variables that contribute to the calculation of the total profit\n",
    "means1 = df.groupby(['ORIGIN', 'DESTINATION']).agg({'DISTANCE': 'mean','NEXT_ARR_DELAY':'mean','NEXT_DEP_DELAY':'mean','DEP_DELAY': 'mean','ARR_DELAY': 'mean','OCCUPANCY_RATE': 'mean', 'ORIGIN_op_cost':'mean','DESTINATION_op_cost':'mean'}).reset_index()"
   ]
  },
  {
   "cell_type": "markdown",
   "id": "0c80d3ca",
   "metadata": {},
   "source": [
    "#### Data cleaning (Tickets dataset)\n",
    "The column that is beng used for aggregation is the <strong>ITIN_FARE</strong>. Seasonal effects can have either a significant positive or negative impact on the price of the ticket, therefore the median was chosen to calculate the itinerary fares. The median is a robust statistic because it has a breakdown point of 50%, as opposed to the mean which is more susceptible to extreme values. "
   ]
  },
  {
   "cell_type": "code",
   "execution_count": 15,
   "id": "fe36a598",
   "metadata": {},
   "outputs": [],
   "source": [
    "tickets = pd.read_csv( destination_folder + 'tickets.csv')\n",
    "tickets = process_tickets_dataset(tickets)\n",
    "itin_fare_median1 = tickets.groupby(['ORIGIN','DESTINATION'])['ITIN_FARE'].apply('median').reset_index().dropna()\n",
    "itin_fare_median1['ORIGIN_DESTINATION'] = itin_fare_median1['ORIGIN'] + '_' + itin_fare_median1['DESTINATION']"
   ]
  },
  {
   "cell_type": "code",
   "execution_count": 16,
   "id": "0bd1e475",
   "metadata": {},
   "outputs": [],
   "source": [
    "agg1 = pd.merge(agg1,means1,on=['ORIGIN','DESTINATION'], how='left')\n",
    "agg1 = pd.merge(agg1,itin_fare_median1,on=['ORIGIN','DESTINATION'], how='left').rename(columns={'DISTANCE':'DISTANCE_mean','DEP_DELAY':'DEP_DELAY_mean','ARR_DELAY':'ARR_DELAY_mean','OCCUPANCY_RATE':'OCCUPANCY_RATE_mean','ITIN_FARE':'ITIN_FARE_median','NEXT_ARR_DELAY':'NEXT_ARR_DELAY_mean','NEXT_DEP_DELAY':'NEXT_DEP_DELAY_mean' }).dropna()\n",
    "agg1 = calculate_profit(agg1)"
   ]
  },
  {
   "cell_type": "code",
   "execution_count": 17,
   "id": "23160da0",
   "metadata": {},
   "outputs": [
    {
     "data": {
      "image/png": "[encoded data removed]",
      "text/plain": [
       "<Figure size 432x288 with 1 Axes>"
      ]
     },
     "metadata": {
      "needs_background": "light"
     },
     "output_type": "display_data"
    }
   ],
   "source": [
    "# creating the bar plot\n",
    "plt.bar(agg1.ORIGIN_DESTINATION[:10], agg1.TOTAL_PROFIT_mean[:10], color ='maroon',\n",
    "        width = 0.4)\n",
    "plt.xticks(rotation = 45) # Rotates X-Axis Ticks by 45-degrees\n",
    "plt.xlabel(\"Round trip flight combination (ORIGIN_DESTINATION)\")\n",
    "plt.ylabel(\"Average profit per round trip flight\")\n",
    "plt.title(\"10 most profitable round trip routes in (without considering the upfront airplane cost) the quarter.\")\n",
    "plt.show()"
   ]
  },
  {
   "cell_type": "markdown",
   "id": "a33a9540",
   "metadata": {},
   "source": [
    "### Exercise 3\n",
    "The 5 round trip routes that you recommend to invest in based on any factors that you\n",
    "choose. There are two main featuers that define the worth of investing in a roundtrip flight; its traffic and its average profit. The column <strong>FACTOR</strong> <br> which is equal to multiplying the total number of flights of every round trip flight with its corresponding average profit, encapsulates both features."
   ]
  },
  {
   "cell_type": "code",
   "execution_count": 18,
   "id": "d0808159",
   "metadata": {},
   "outputs": [
    {
     "data": {
      "image/png": "[encoded data removed]",
      "text/plain": [
       "<Figure size 1332x756 with 1 Axes>"
      ]
     },
     "metadata": {
      "needs_background": "light"
     },
     "output_type": "display_data"
    }
   ],
   "source": [
    "fig = matplotlib.pyplot.gcf()\n",
    "fig.set_size_inches(18.5, 10.5)\n",
    "agg1['FACTOR'] = agg1['TOTAL_PROFIT_mean'] * agg1['NO_FLIGHTS']\n",
    "agg1 = agg1.sort_values(by='FACTOR', ascending=False)\n",
    "agg1_recc = agg1[:10]\n",
    "# creating the bar plot\n",
    "plt.bar(agg1_recc.ORIGIN_DESTINATION, agg1_recc.FACTOR, color ='blue',width = 0.4)\n",
    "plt.xticks(rotation = 45) # Rotates X-Axis Ticks by 45-degrees\n",
    "plt.xlabel(\"Round trip flight combination (ORIGIN_DESTINATION)\")\n",
    "plt.ylabel(\"Magnitude of Factor\")\n",
    "plt.title(\"Reccomendation of 5 round trip routes to invest in\")\n",
    "plt.show()"
   ]
  },
  {
   "cell_type": "markdown",
   "id": "46a06660",
   "metadata": {},
   "source": [
    "### Exercise 4\n",
    "The number of round trip flights it will take to breakeven on the upfront airplane cost for\n",
    "each of the 5 round trip routes that you recommend. Print key summary components for\n",
    "these routes"
   ]
  },
  {
   "cell_type": "code",
   "execution_count": 19,
   "id": "730bfe6f",
   "metadata": {},
   "outputs": [
    {
     "data": {
      "image/png": "[encoded data removed]",
      "text/plain": [
       "<Figure size 432x288 with 1 Axes>"
      ]
     },
     "metadata": {
      "needs_background": "light"
     },
     "output_type": "display_data"
    }
   ],
   "source": [
    "upfront_airplane_cost = 90*(10**6)\n",
    "agg1_recc['NO_FLIGHTS_BREAKEVEN'] = (upfront_airplane_cost/agg1_recc['TOTAL_PROFIT_mean']).astype(int)\n",
    "\n",
    "# creating the bar plot\n",
    "plt.bar(agg1_recc.ORIGIN_DESTINATION, agg1_recc.NO_FLIGHTS_BREAKEVEN, color ='maroon',\n",
    "        width = 0.4)\n",
    "plt.xticks(rotation = 45) # Rotates X-Axis Ticks by 45-degrees\n",
    "plt.xlabel(\"Round trip flight combination (ORIGIN_DESTINATION)\")\n",
    "plt.ylabel(\"Number of flights\")\n",
    "plt.title(\"Number of round trip flights it will take to breakeven on the upfront airplane cost on average\")\n",
    "plt.show()"
   ]
  },
  {
   "cell_type": "code",
   "execution_count": 20,
   "id": "0e87b042",
   "metadata": {},
   "outputs": [],
   "source": [
    "df_summary = agg1_recc[['NO_FLIGHTS','ORIGIN_DESTINATION','TOTAL_REVENUE_mean','TOTAL_COST_mean','TOTAL_PROFIT_mean','NO_FLIGHTS_BREAKEVEN','FACTOR']]\n",
    "df_summary.to_csv('df_summary')"
   ]
  },
  {
   "cell_type": "markdown",
   "id": "32cd98ed",
   "metadata": {},
   "source": [
    "### Exercise 5\n",
    "Key Performance Indicators (KPI’s) that you recommend tracking in the future to\n",
    "measure the success of the round trip routes that you recommend. Applying the log fuction to the FACTOR variable yields a new feature that is more concise. Moreover, logarithmic transformations are used to \"normalize\" skewed or kurtotic distributions of continuous variables so that parametric statistics can be conducted."
   ]
  },
  {
   "cell_type": "code",
   "execution_count": 21,
   "id": "22a1865c",
   "metadata": {},
   "outputs": [
    {
     "data": {
      "image/png": "[encoded data removed]",
      "text/plain": [
       "<Figure size 432x288 with 1 Axes>"
      ]
     },
     "metadata": {
      "needs_background": "light"
     },
     "output_type": "display_data"
    }
   ],
   "source": [
    "agg1_recc['KPI'] = np.log(1+agg1_recc.FACTOR)\n",
    "# creating the bar plot\n",
    "plt.bar(agg1_recc.ORIGIN_DESTINATION, agg1_recc.KPI, color ='green',\n",
    "        width = 0.4)\n",
    "plt.xticks(rotation = 45) # Rotates X-Axis Ticks by 45-degrees\n",
    "plt.xlabel(\"Round trip flight combination (ORIGIN_DESTINATION)\")\n",
    "plt.ylabel(\"Average KPI value\")\n",
    "plt.title(\"Success of the round trip routes that for recommendation based on the KPI metric.\")\n",
    "plt.show()"
   ]
  },
  {
   "cell_type": "markdown",
   "id": "a4c2223a",
   "metadata": {},
   "source": [
    "# What’s Next\n",
    "What you would do next to inform a better decision or deliver a better product to your company. \n",
    "1. Flight combinations (using the same plane) with 3 or more airports involved should be investigated. Our current assumptions are limiting and should be adjusted for more exploration.\n",
    "2. Conduct the analysis using shorter time-intervals to find which are the most profitable flights. The current time interval which we are investigating is the first quarter of 2019. Smaller timer intervals such as monthly, could be investigated to find which are routes that yield the maximum amount of profit for every fixed time interval.\n",
    "3. Other datasets should be used to fill in the missing values (f.e IATA_CODE column in airports dataset)\n",
    "4. Include measurements of uncertainty regarding the KPI column (f.e confidence intervals)."
   ]
  }
 ],
 "metadata": {
  "kernelspec": {
   "display_name": "Python 3 (ipykernel)",
   "language": "python",
   "name": "python3"
  },
  "language_info": {
   "codemirror_mode": {
    "name": "ipython",
    "version": 3
   },
   "file_extension": ".py",
   "mimetype": "text/x-python",
   "name": "python",
   "nbconvert_exporter": "python",
   "pygments_lexer": "ipython3",
   "version": "3.9.12"
  }
 },
 "nbformat": 4,
 "nbformat_minor": 5
}
